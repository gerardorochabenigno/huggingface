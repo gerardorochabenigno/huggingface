{
 "cells": [
  {
   "cell_type": "code",
   "execution_count": 9,
   "metadata": {},
   "outputs": [],
   "source": [
    "from transformers import pipeline\n",
    "import pandas as pd\n",
    "from skimage.color import rgb2gray\n",
    "import gradio as gr"
   ]
  },
  {
   "cell_type": "markdown",
   "metadata": {},
   "source": [
    "# Hugging Face in Action"
   ]
  },
  {
   "cell_type": "markdown",
   "metadata": {},
   "source": [
    "## 1. Introducción"
   ]
  },
  {
   "cell_type": "markdown",
   "metadata": {},
   "source": [
    "### Transformer library"
   ]
  },
  {
   "cell_type": "markdown",
   "metadata": {},
   "source": [
    "Un pipeline es una API de alto nivel que simplifica la construcción de flujos de trabajo de Procesamiento de Lenguaje Natural (NLP). Nos permite realizar una secuencua de tareas NLP como clasificación de texto, named entity recognition (identificar y categorizar entidades en trexto no estructurado), traducciones, resumenes, ect."
   ]
  },
  {
   "cell_type": "code",
   "execution_count": 4,
   "metadata": {},
   "outputs": [
    {
     "name": "stderr",
     "output_type": "stream",
     "text": [
      "Some layers from the model checkpoint at distilbert-base-uncased-finetuned-sst-2-english were not used when initializing TFDistilBertForSequenceClassification: ['dropout_19']\n",
      "- This IS expected if you are initializing TFDistilBertForSequenceClassification from the checkpoint of a model trained on another task or with another architecture (e.g. initializing a BertForSequenceClassification model from a BertForPreTraining model).\n",
      "- This IS NOT expected if you are initializing TFDistilBertForSequenceClassification from the checkpoint of a model that you expect to be exactly identical (initializing a BertForSequenceClassification model from a BertForSequenceClassification model).\n",
      "Some layers of TFDistilBertForSequenceClassification were not initialized from the model checkpoint at distilbert-base-uncased-finetuned-sst-2-english and are newly initialized: ['dropout_39']\n",
      "You should probably TRAIN this model on a down-stream task to be able to use it for predictions and inference.\n"
     ]
    }
   ],
   "source": [
    "classifier = pipeline('text-classification',\n",
    "             model = 'distilbert-base-uncased-finetuned-sst-2-english', \n",
    "             revision = 'af0f99b')\n",
    " "
   ]
  },
  {
   "cell_type": "code",
   "execution_count": 7,
   "metadata": {},
   "outputs": [
    {
     "data": {
      "text/html": [
       "<div>\n",
       "<style scoped>\n",
       "    .dataframe tbody tr th:only-of-type {\n",
       "        vertical-align: middle;\n",
       "    }\n",
       "\n",
       "    .dataframe tbody tr th {\n",
       "        vertical-align: top;\n",
       "    }\n",
       "\n",
       "    .dataframe thead th {\n",
       "        text-align: right;\n",
       "    }\n",
       "</style>\n",
       "<table border=\"1\" class=\"dataframe\">\n",
       "  <thead>\n",
       "    <tr style=\"text-align: right;\">\n",
       "      <th></th>\n",
       "      <th>label</th>\n",
       "      <th>score</th>\n",
       "    </tr>\n",
       "  </thead>\n",
       "  <tbody>\n",
       "    <tr>\n",
       "      <th>0</th>\n",
       "      <td>POSITIVE</td>\n",
       "      <td>0.99919</td>\n",
       "    </tr>\n",
       "  </tbody>\n",
       "</table>\n",
       "</div>"
      ],
      "text/plain": [
       "      label    score\n",
       "0  POSITIVE  0.99919"
      ]
     },
     "execution_count": 7,
     "metadata": {},
     "output_type": "execute_result"
    }
   ],
   "source": [
    "text = '''\n",
    "I thought this was a wonderful way to spend time on a too hot summer \n",
    "weekend, sitting in the air conditioned theater and watching a \n",
    "light-hearted comedy. The plot is simplistic, but the dialogue is \n",
    "witty and the characters are likable (even the well bread suspected \n",
    "serial killer). While some may be disappointed when they realize \n",
    "this is not Match Point 2: Risk Addiction, I thought it was proof \n",
    "that Woody Allen is still fully in control of the style many of us \n",
    "have grown to love.<br /><br />This was the most I'd laughed at one \n",
    "of Woody's comedies in years (dare I say a decade?). While I've never \n",
    "been impressed with Scarlet Johanson, in this she managed to tone \n",
    "down her \"sexy\" image and jumped right into a average, but spirited \n",
    "young woman.<br /><br />This may not be the crown jewel of his career\n",
    ", but it was wittier than \"Devil Wears Prada\" and more interesting \n",
    "than \"Superman\" a great comedy to go see with friends.\n",
    "'''\n",
    "results = classifier(text)\n",
    "pd.DataFrame(results)"
   ]
  },
  {
   "cell_type": "markdown",
   "metadata": {},
   "source": [
    "### Modelos de Hugging Face\n",
    "https://huggingface.co/models"
   ]
  },
  {
   "cell_type": "markdown",
   "metadata": {},
   "source": [
    "En la página de Hugging Face uno puede acceder a los diversos modelos construidos por la comunidad. Inclusive tienen un widget para probarlos."
   ]
  },
  {
   "cell_type": "markdown",
   "metadata": {},
   "source": [
    "### Librería Gradio de Hugging Face"
   ]
  },
  {
   "cell_type": "markdown",
   "metadata": {},
   "source": [
    "Con gradio, puedes desplegar aplicaciones con una interfaz gráfica amigable para que puedas compartirlas con otras personas."
   ]
  },
  {
   "cell_type": "code",
   "execution_count": 12,
   "metadata": {},
   "outputs": [
    {
     "name": "stdout",
     "output_type": "stream",
     "text": [
      "Running on local URL:  http://127.0.0.1:7862\n",
      "\n",
      "To create a public link, set `share=True` in `launch()`.\n"
     ]
    },
    {
     "data": {
      "text/html": [
       "<div><iframe src=\"http://127.0.0.1:7862/\" width=\"100%\" height=\"500\" allow=\"autoplay; camera; microphone; clipboard-read; clipboard-write;\" frameborder=\"0\" allowfullscreen></iframe></div>"
      ],
      "text/plain": [
       "<IPython.core.display.HTML object>"
      ]
     },
     "metadata": {},
     "output_type": "display_data"
    },
    {
     "data": {
      "text/plain": []
     },
     "execution_count": 12,
     "metadata": {},
     "output_type": "execute_result"
    }
   ],
   "source": [
    "def transform_image(img):\n",
    "    return rgb2gray(img)\n",
    "\n",
    "demo = gr.Interface(\n",
    "    fn = transform_image,\n",
    "    inputs = gr.Image(),\n",
    "    outputs = 'image'\n",
    ")\n",
    "\n",
    "demo.launch()"
   ]
  },
  {
   "cell_type": "markdown",
   "metadata": {},
   "source": [
    "### Hugging Face Autotrain"
   ]
  },
  {
   "cell_type": "markdown",
   "metadata": {},
   "source": [
    "Hugging Face AutoTrain es una herramienta que permite entrenar y desplegar modelos de ML sin necesidad de código. Con AutoTrain puedes subir datasets a HuggingFace  y AutoTrain determinará la mejor manera de crear modelos de ML basados en el dataset. \n",
    "\n",
    "Autotrain tiene tres tipos de tareas que puede realizar:\n",
    " - **Visión**. Solo se puede realizar clasificación de imágenes al momento.\n",
    " - **Texto**. Clasificación de texto.\n",
    " - **Tabular**. Se puede realizar clasificación y regresión."
   ]
  },
  {
   "cell_type": "code",
   "execution_count": null,
   "metadata": {},
   "outputs": [],
   "source": []
  }
 ],
 "metadata": {
  "kernelspec": {
   "display_name": "py_tf",
   "language": "python",
   "name": "python3"
  },
  "language_info": {
   "codemirror_mode": {
    "name": "ipython",
    "version": 3
   },
   "file_extension": ".py",
   "mimetype": "text/x-python",
   "name": "python",
   "nbconvert_exporter": "python",
   "pygments_lexer": "ipython3",
   "version": "3.8.20"
  }
 },
 "nbformat": 4,
 "nbformat_minor": 2
}
